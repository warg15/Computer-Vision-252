{
 "cells": [
  {
   "cell_type": "markdown",
   "metadata": {
    "_cell_guid": "33b007c6-36fb-4b88-8bff-8085eca9423a",
    "_uuid": "de9f2f376e9b6436d459e42eaffafec02d1c88eb"
   },
   "source": [
    "# Load and format data"
   ]
  },
  {
   "cell_type": "markdown",
   "metadata": {
    "_cell_guid": "33b007c6-36fb-4b88-8bff-8085eca9423a",
    "_uuid": "de9f2f376e9b6436d459e42eaffafec02d1c88eb"
   },
   "source": [
    "This notebook loads data from the NOAA GSOD dataset (queried and saved locally using BigQuery api) into Pandas dataframe. I remove columns that are not useful and clean nans. All years are appended and saved out.\n",
    "\n",
    "It also loads and visualizes the stations for these data. \n",
    "\n",
    "The monthly nino 3.4 anomaly since 1950 is loaded into a Pandas dataframe, index by datetime, and saved out."
   ]
  },
  {
   "cell_type": "code",
   "execution_count": 1,
   "metadata": {
    "_cell_guid": "33b007c6-36fb-4b88-8bff-8085eca9423a",
    "_uuid": "de9f2f376e9b6436d459e42eaffafec02d1c88eb"
   },
   "outputs": [],
   "source": [
    "import numpy as np\n",
    "import pandas as pd\n",
    "import matplotlib \n",
    "import matplotlib.pyplot as plt\n",
    "import glob\n",
    "from mpl_toolkits.basemap import Basemap\n",
    "import matplotlib.pyplot as plt\n",
    "import scipy.signal as sig\n",
    "import time"
   ]
  },
  {
   "cell_type": "markdown",
   "metadata": {
    "_cell_guid": "b2b5f66a-623f-49cc-b077-708dd3be5eaa",
    "_uuid": "03a4417ddc3a6cd00e4d32d0687b05d7b24ef773"
   },
   "source": [
    "## Data management"
   ]
  },
  {
   "cell_type": "markdown",
   "metadata": {
    "_cell_guid": "b2b5f66a-623f-49cc-b077-708dd3be5eaa",
    "_uuid": "03a4417ddc3a6cd00e4d32d0687b05d7b24ef773"
   },
   "source": [
    " Load NOAA gsod dataset (temp, precip) (access: https://cloud.google.com/bigquery/public-data/)"
   ]
  },
  {
   "cell_type": "code",
   "execution_count": null,
   "metadata": {
    "_cell_guid": "b2b5f66a-623f-49cc-b077-708dd3be5eaa",
    "_uuid": "03a4417ddc3a6cd00e4d32d0687b05d7b24ef773"
   },
   "outputs": [
    {
     "name": "stdout",
     "output_type": "stream",
     "text": [
      "['/datasets/NOAA_SST/noaa_gsod/noaa_gsod.gsod2014', '/datasets/NOAA_SST/noaa_gsod/noaa_gsod.gsod2015', '/datasets/NOAA_SST/noaa_gsod/noaa_gsod.gsod2016', '/datasets/NOAA_SST/noaa_gsod/noaa_gsod.gsod2017', '/datasets/NOAA_SST/noaa_gsod/noaa_gsod.gsod2018']\n"
     ]
    }
   ],
   "source": [
    "dataset_path='/datasets/NOAA_SST/'\n",
    "fpath = dataset_path + 'noaa_gsod/'\n",
    "pandas_files = sorted(glob.glob(fpath + 'noaa_gsod.gsod*'))\n",
    "pandas_files = pandas_files[-5:]  # Take the last five years\n",
    "print(pandas_files)"
   ]
  },
  {
   "cell_type": "code",
   "execution_count": null,
   "metadata": {
    "_cell_guid": "b2b5f66a-623f-49cc-b077-708dd3be5eaa",
    "_uuid": "03a4417ddc3a6cd00e4d32d0687b05d7b24ef773"
   },
   "outputs": [
    {
     "name": "stdout",
     "output_type": "stream",
     "text": [
      "22.749522924423218\n",
      "44.16569185256958\n",
      "66.07741928100586\n",
      "89.88960266113281\n"
     ]
    }
   ],
   "source": [
    "t0=time.time()\n",
    "df = pd.DataFrame()\n",
    "for i, fi in enumerate(pandas_files):\n",
    " #   dtmp = pd.read_csv(fi)\n",
    "    #yr = int(fi[32:36])\n",
    "    \n",
    "    dtmp = pd.read_pickle(fi)\n",
    "    yr = int(fi[-4:])\n",
    "    \n",
    "    dtmp['yr'] = yr*np.ones(len(dtmp),).astype(int)\n",
    "    dtmp = dtmp.drop(columns=['wban', 'dewp', 'count_dewp','count_temp','count_slp','stp','count_stp',\\\n",
    "                      'visib','count_visib','count_wdsp','gust','flag_min','flag_max', \\\n",
    "                      'flag_prcp','sndp','fog','rain_drizzle','snow_ice_pellets','hail',\\\n",
    "                      'thunder','tornado_funnel_cloud'], axis=1)\n",
    "    \n",
    "    # convert string values to floats\n",
    "    dtmp['wdsp'] = dtmp.wdsp.astype(float)\n",
    "    dtmp['mxpsd'] = dtmp.mxpsd.astype(float)\n",
    "    \n",
    "    dtmp = dtmp.replace(to_replace={'temp':9999.9, 'slp':9999.9, 'wdsp':999.9, 'mxpsd':999.9,'max':9999.9,\\\n",
    "                                   'min':9999.9,'prcp':99.99, 'stn':'999999'}, value={'temp':np.nan, 'slp':np.nan, \\\n",
    "                                'wdsp':np.nan, 'mxpsd':np.nan,'max':np.nan,'min':np.nan, 'prcp':0, 'stn':np.nan})\n",
    "    dtmp = dtmp.dropna()\n",
    "    \n",
    " \n",
    "    # add datetime\n",
    "    dtmp['Datetime'] = pd.to_datetime((dtmp['yr'].astype(str) + dtmp['mo'].astype(str) + dtmp['da'].astype(str)),\\\n",
    "                                       format='%Y%m%d')\n",
    "    df = df.append(dtmp, sort=False)\n",
    "    print(time.time()-t0)\n",
    "    \n",
    "df = df.set_index('Datetime', drop=True)\n",
    "# this should be commented out df.to_pickle(fpath + 'Combined_noaa_gsod')\n",
    "print('Time ' + str(time.time()-t0) + ' s')"
   ]
  },
  {
   "cell_type": "code",
   "execution_count": null,
   "metadata": {
    "_cell_guid": "b2b5f66a-623f-49cc-b077-708dd3be5eaa",
    "_uuid": "03a4417ddc3a6cd00e4d32d0687b05d7b24ef773"
   },
   "outputs": [],
   "source": [
    "#df = df.drop(columns='Unnamed: 0')\n",
    "# get stations \n",
    "stations = pd.read_pickle(dataset_path+'noaa_gsod.stations')           \n",
    "                                      \n",
    "# View station locations\n",
    "fig = plt.figure(figsize=(18.5, 10.5))\n",
    "m = Basemap(projection='cyl',llcrnrlat=-90,urcrnrlat=90,\\\n",
    "            llcrnrlon=-180,urcrnrlon=180, resolution='l')\n",
    "m.drawmapboundary(fill_color='xkcd:lightblue')\n",
    "m.fillcontinents(color='xkcd:green',lake_color='xkcd:lightblue')\n",
    "m.drawmeridians(np.arange(0.,350.,30.),labels=[True,False,False,True])\n",
    "m.drawparallels(np.arange(-90.,90,30.),labels=[False,True,True,False])\n",
    "lon = stations['lon'].tolist()\n",
    "lat = stations['lat'].tolist()\n",
    "xpt,ypt = m(lon,lat)\n",
    "m.plot(xpt,ypt,'b+') \n",
    "plt.show()\n",
    "\n",
    "df.head()"
   ]
  },
  {
   "cell_type": "code",
   "execution_count": null,
   "metadata": {},
   "outputs": [],
   "source": []
  }
 ],
 "metadata": {
  "kernelspec": {
   "display_name": "Python 3",
   "language": "python",
   "name": "python3"
  },
  "language_info": {
   "codemirror_mode": {
    "name": "ipython",
    "version": 3
   },
   "file_extension": ".py",
   "mimetype": "text/x-python",
   "name": "python",
   "nbconvert_exporter": "python",
   "pygments_lexer": "ipython3",
   "version": "3.6.8"
  }
 },
 "nbformat": 4,
 "nbformat_minor": 1
}
